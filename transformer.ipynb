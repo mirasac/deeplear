{
 "cells": [
  {
   "cell_type": "markdown",
   "metadata": {},
   "source": [
    "# Transformer"
   ]
  },
  {
   "cell_type": "code",
   "execution_count": 1,
   "metadata": {},
   "outputs": [],
   "source": [
    "import inspect\n",
    "\n",
    "import transformer as tf"
   ]
  },
  {
   "cell_type": "code",
   "execution_count": 2,
   "metadata": {},
   "outputs": [
    {
     "name": "stdout",
     "output_type": "stream",
     "text": [
      "\"\"\"Implementation of Transformer model.\n",
      "\n",
      "This module contains classes and functions which implement the main parts of\n",
      "the Transformer model, as presented in the paper Attention Is All You Need\n",
      "by Vaswani et al.\n",
      "\"\"\"\n",
      "\n",
      "import math\n",
      "\n",
      "import torch\n",
      "import torch.nn as nn\n",
      "\n",
      "\n",
      "class PositionalEncoding(nn.Module):\n",
      "    pass\n",
      "\n",
      "\n",
      "class LayerNormalization(nn.Module):\n",
      "    pass\n",
      "\n",
      "\n",
      "class FeedForwardBlock(nn.Module):\n",
      "    pass\n",
      "\n",
      "\n",
      "class MultiHeadAttention(nn.Module):\n",
      "    pass\n",
      "\n",
      "\n",
      "class ResidualConnection(nn.Module):\n",
      "    pass\n",
      "\n",
      "\n",
      "class EncoderBlock(nn.Module):\n",
      "    pass\n",
      "\n",
      "\n",
      "class Encoder(nn.Module):\n",
      "    pass\n",
      "\n",
      "\n",
      "class DecoderBlock(nn.Module):\n",
      "    pass\n",
      "\n",
      "\n",
      "class Decoder(nn.Module):\n",
      "    pass\n",
      "\n",
      "\n",
      "class ProjectionLayer(nn.Module):\n",
      "    pass\n",
      "\n",
      "\n",
      "class Transformer(nn.Module):\n",
      "    pass\n",
      "\n"
     ]
    }
   ],
   "source": [
    "print(inspect.getsource(tf))"
   ]
  }
 ],
 "metadata": {
  "kernelspec": {
   "display_name": ".venv",
   "language": "python",
   "name": "python3"
  },
  "language_info": {
   "codemirror_mode": {
    "name": "ipython",
    "version": 3
   },
   "file_extension": ".py",
   "mimetype": "text/x-python",
   "name": "python",
   "nbconvert_exporter": "python",
   "pygments_lexer": "ipython3",
   "version": "3.10.4"
  }
 },
 "nbformat": 4,
 "nbformat_minor": 2
}
